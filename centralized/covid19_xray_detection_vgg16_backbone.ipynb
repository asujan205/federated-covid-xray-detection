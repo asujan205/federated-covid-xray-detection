{
  "cells": [
    {
      "cell_type": "markdown",
      "metadata": {
        "id": "view-in-github",
        "colab_type": "text"
      },
      "source": [
        "<a href=\"https://colab.research.google.com/github/rupeshgyawali/federated-covid-xray-detection/blob/main/centralized/covid19_xray_detection_vgg16_backbone.ipynb\" target=\"_parent\"><img src=\"https://colab.research.google.com/assets/colab-badge.svg\" alt=\"Open In Colab\"/></a>"
      ]
    },
    {
      "cell_type": "code",
      "source": [
        "from google.colab import drive\n",
        "drive.mount('/content/drive')"
      ],
      "metadata": {
        "colab": {
          "base_uri": "https://localhost:8080/"
        },
        "id": "s7NQMnc5mJci",
        "outputId": "52e15f4b-9752-4483-abf7-0178e1d5a9ed"
      },
      "execution_count": null,
      "outputs": [
        {
          "output_type": "stream",
          "name": "stdout",
          "text": [
            "Mounted at /content/drive\n"
          ]
        }
      ]
    },
    {
      "cell_type": "markdown",
      "source": [
        "### Download and unzip dataset"
      ],
      "metadata": {
        "id": "7Yt1HJ0UKGp6"
      }
    },
    {
      "cell_type": "code",
      "execution_count": null,
      "metadata": {
        "id": "QOjkPZB3VycA"
      },
      "outputs": [],
      "source": [
        "# !cp /content/drive/MyDrive/MajorProject/COVID-19_Radiography_Dataset.zip /content/\n",
        "!cp /content/drive/MyDrive/MajorProject/Dataset_1400.zip /content/"
      ]
    },
    {
      "cell_type": "code",
      "execution_count": null,
      "metadata": {
        "id": "Wi7deG49V1i_"
      },
      "outputs": [],
      "source": [
        "# !gdown --id 1ZMgUQkwNqvMrZ8QaQmSbiDqXOWAewwou\n",
        "# !unzip -q COVID-19_Radiography_Database.zip\n",
        "# !gdown 10yfPVbWYhaZck9Z5ujE2IA2RmcEHadTP\n",
        "# !unzip -q COVID-19_Radiography_Dataset.zip\n",
        "!unzip -q Dataset_1400.zip -d Dataset_1400"
      ]
    },
    {
      "cell_type": "code",
      "source": [
        ""
      ],
      "metadata": {
        "id": "5RJikN-ciXjG"
      },
      "execution_count": null,
      "outputs": []
    },
    {
      "cell_type": "markdown",
      "source": [
        "### Import necessary libraries"
      ],
      "metadata": {
        "id": "JDeOkUMSKNPP"
      }
    },
    {
      "cell_type": "code",
      "execution_count": null,
      "metadata": {
        "id": "Ve5jnKmURK85"
      },
      "outputs": [],
      "source": [
        "import numpy as np\n",
        "import tensorflow as tf\n"
      ]
    },
    {
      "cell_type": "markdown",
      "source": [
        "### Prepare dataset"
      ],
      "metadata": {
        "id": "7z1GFz_zKWDh"
      }
    },
    {
      "cell_type": "code",
      "execution_count": null,
      "metadata": {
        "id": "I61FtZGuSc5u"
      },
      "outputs": [],
      "source": [
        "batch_size = 32\n",
        "img_height = 224\n",
        "img_width = 224"
      ]
    },
    {
      "cell_type": "code",
      "execution_count": null,
      "metadata": {
        "id": "tZBs_YV_WOhv"
      },
      "outputs": [],
      "source": [
        "# dataset_path = '/content/COVID-19_Radiography_Dataset'\n",
        "dataset_path = '/content/Dataset_1400'"
      ]
    },
    {
      "cell_type": "code",
      "execution_count": null,
      "metadata": {
        "colab": {
          "base_uri": "https://localhost:8080/"
        },
        "id": "JlipnxKAUovG",
        "outputId": "065b7896-46f6-4a3b-9af2-8c39704fa25d"
      },
      "outputs": [
        {
          "output_type": "stream",
          "name": "stdout",
          "text": [
            "Found 5545 files belonging to 4 classes.\n",
            "Using 4436 files for training.\n",
            "Found 5545 files belonging to 4 classes.\n",
            "Using 1109 files for validation.\n"
          ]
        }
      ],
      "source": [
        "training_set = tf.keras.utils.image_dataset_from_directory(\n",
        "    dataset_path, seed=123, validation_split=0.2, subset=\"training\", batch_size=batch_size, image_size=(img_height, img_width))\n",
        "test_set = tf.keras.utils.image_dataset_from_directory(\n",
        "    dataset_path, seed=123, validation_split=0.2, subset=\"validation\", batch_size=batch_size, image_size=(img_height, img_width))"
      ]
    },
    {
      "cell_type": "markdown",
      "source": [
        "### Model with vgg16 backbone"
      ],
      "metadata": {
        "id": "ZWlBoXxjKbf2"
      }
    },
    {
      "cell_type": "code",
      "source": [
        "# image_input = tf.keras.layers.Input(shape=(img_height, img_width, 3))\n",
        "# data_augmentation = tf.keras.models.Sequential(\n",
        "#   [\n",
        "#     tf.keras.layers.RandomFlip(\"horizontal\",\n",
        "#                       input_shape=(img_height,\n",
        "#                                   img_width,\n",
        "#                                   3)),\n",
        "#     tf.keras.layers.RandomRotation(0.1),\n",
        "#     tf.keras.layers.RandomZoom(0.1),\n",
        "#   ]\n",
        "# )(image_input)"
      ],
      "metadata": {
        "id": "3-x9XhY9EKAX"
      },
      "execution_count": null,
      "outputs": []
    },
    {
      "cell_type": "code",
      "source": [
        ""
      ],
      "metadata": {
        "id": "SLa4bNUpPvJ8"
      },
      "execution_count": null,
      "outputs": []
    },
    {
      "cell_type": "code",
      "execution_count": null,
      "metadata": {
        "id": "M27C8SAESpbD"
      },
      "outputs": [],
      "source": [
        "vgg = tf.keras.applications.vgg16.VGG16(input_shape=[img_height,img_width]  + [3], weights='imagenet', include_top=False)#, input_tensor=data_augmentation)"
      ]
    },
    {
      "cell_type": "code",
      "execution_count": null,
      "metadata": {
        "id": "_GOLLfqQTFQy"
      },
      "outputs": [],
      "source": [
        "#dont train  existing weights\n",
        "for layer in vgg.layers:\n",
        "    layer.trainable = False"
      ]
    },
    {
      "cell_type": "code",
      "execution_count": null,
      "metadata": {
        "id": "JvE76mnKTUax"
      },
      "outputs": [],
      "source": [
        "# x=tf.keras.layers.GlobalAveragePooling2D()(vgg.output)\n",
        "x=tf.keras.layers.Flatten()(vgg.output)\n",
        "x=tf.keras.layers.Dense(64, activation='relu')(x)\n",
        "x=tf.keras.layers.Dropout(0.2)(x)\n",
        "x=tf.keras.layers.Dense(128, activation='relu')(x)\n",
        "prediction = tf.keras.layers.Dense(4,activation='softmax')(x)"
      ]
    },
    {
      "cell_type": "code",
      "execution_count": null,
      "metadata": {
        "id": "jXcuxzzZTr6p"
      },
      "outputs": [],
      "source": [
        "#create a model object\n",
        "model = tf.keras.models.Model(inputs=vgg.input, outputs=prediction)"
      ]
    },
    {
      "cell_type": "code",
      "execution_count": null,
      "metadata": {
        "id": "2BKDLZJYUfCB",
        "colab": {
          "base_uri": "https://localhost:8080/"
        },
        "outputId": "5133c4c3-11ed-4640-f707-69f4522fa220"
      },
      "outputs": [
        {
          "output_type": "stream",
          "name": "stdout",
          "text": [
            "Model: \"model_1\"\n",
            "_________________________________________________________________\n",
            " Layer (type)                Output Shape              Param #   \n",
            "=================================================================\n",
            " input_3 (InputLayer)        [(None, 224, 224, 3)]     0         \n",
            "                                                                 \n",
            " block1_conv1 (Conv2D)       (None, 224, 224, 64)      1792      \n",
            "                                                                 \n",
            " block1_conv2 (Conv2D)       (None, 224, 224, 64)      36928     \n",
            "                                                                 \n",
            " block1_pool (MaxPooling2D)  (None, 112, 112, 64)      0         \n",
            "                                                                 \n",
            " block2_conv1 (Conv2D)       (None, 112, 112, 128)     73856     \n",
            "                                                                 \n",
            " block2_conv2 (Conv2D)       (None, 112, 112, 128)     147584    \n",
            "                                                                 \n",
            " block2_pool (MaxPooling2D)  (None, 56, 56, 128)       0         \n",
            "                                                                 \n",
            " block3_conv1 (Conv2D)       (None, 56, 56, 256)       295168    \n",
            "                                                                 \n",
            " block3_conv2 (Conv2D)       (None, 56, 56, 256)       590080    \n",
            "                                                                 \n",
            " block3_conv3 (Conv2D)       (None, 56, 56, 256)       590080    \n",
            "                                                                 \n",
            " block3_pool (MaxPooling2D)  (None, 28, 28, 256)       0         \n",
            "                                                                 \n",
            " block4_conv1 (Conv2D)       (None, 28, 28, 512)       1180160   \n",
            "                                                                 \n",
            " block4_conv2 (Conv2D)       (None, 28, 28, 512)       2359808   \n",
            "                                                                 \n",
            " block4_conv3 (Conv2D)       (None, 28, 28, 512)       2359808   \n",
            "                                                                 \n",
            " block4_pool (MaxPooling2D)  (None, 14, 14, 512)       0         \n",
            "                                                                 \n",
            " block5_conv1 (Conv2D)       (None, 14, 14, 512)       2359808   \n",
            "                                                                 \n",
            " block5_conv2 (Conv2D)       (None, 14, 14, 512)       2359808   \n",
            "                                                                 \n",
            " block5_conv3 (Conv2D)       (None, 14, 14, 512)       2359808   \n",
            "                                                                 \n",
            " block5_pool (MaxPooling2D)  (None, 7, 7, 512)         0         \n",
            "                                                                 \n",
            " flatten_1 (Flatten)         (None, 25088)             0         \n",
            "                                                                 \n",
            " dense_6 (Dense)             (None, 64)                1605696   \n",
            "                                                                 \n",
            " dropout_1 (Dropout)         (None, 64)                0         \n",
            "                                                                 \n",
            " dense_7 (Dense)             (None, 128)               8320      \n",
            "                                                                 \n",
            " dense_8 (Dense)             (None, 4)                 516       \n",
            "                                                                 \n",
            "=================================================================\n",
            "Total params: 16,329,220\n",
            "Trainable params: 1,614,532\n",
            "Non-trainable params: 14,714,688\n",
            "_________________________________________________________________\n"
          ]
        }
      ],
      "source": [
        "model.summary()"
      ]
    },
    {
      "cell_type": "code",
      "execution_count": null,
      "metadata": {
        "id": "KaWSwZMcUhjG"
      },
      "outputs": [],
      "source": [
        "model.compile(optimizer='adam',\n",
        "              loss=tf.keras.losses.SparseCategoricalCrossentropy(from_logits=False),\n",
        "              metrics=['accuracy'])"
      ]
    },
    {
      "cell_type": "markdown",
      "source": [
        "### Train the model"
      ],
      "metadata": {
        "id": "9Aks4d-JLlkt"
      }
    },
    {
      "cell_type": "code",
      "execution_count": null,
      "metadata": {
        "id": "o-zhyo35Vh90"
      },
      "outputs": [],
      "source": [
        "epochs = 50\n",
        "tensorboard_callback = tf.keras.callbacks.TensorBoard(\n",
        "            log_dir='/content/drive/MyDrive/MajorProject/logs/experiment5/centralized/')\n",
        "csv_logger = tf.keras.callbacks.CSVLogger(\n",
        "            '/content/drive/MyDrive/MajorProject/logs/experiment5/centralized/' + 'training.log', \n",
        "            append=True)"
      ]
    },
    {
      "cell_type": "code",
      "execution_count": null,
      "metadata": {
        "colab": {
          "base_uri": "https://localhost:8080/"
        },
        "id": "VFaNIpO9VjxX",
        "outputId": "a416c158-7033-4204-b479-c8fe58ace83b"
      },
      "outputs": [
        {
          "output_type": "stream",
          "name": "stdout",
          "text": [
            "Epoch 1/50\n",
            "139/139 [==============================] - 28s 196ms/step - loss: 1.4309 - accuracy: 0.7000 - val_loss: 0.4722 - val_accuracy: 0.8287\n",
            "Epoch 2/50\n",
            "139/139 [==============================] - 28s 197ms/step - loss: 0.5325 - accuracy: 0.7969 - val_loss: 0.4959 - val_accuracy: 0.8440\n",
            "Epoch 3/50\n",
            "139/139 [==============================] - 29s 204ms/step - loss: 0.4132 - accuracy: 0.8381 - val_loss: 0.3919 - val_accuracy: 0.8918\n",
            "Epoch 4/50\n",
            "139/139 [==============================] - 29s 208ms/step - loss: 0.4094 - accuracy: 0.8573 - val_loss: 0.4436 - val_accuracy: 0.8494\n",
            "Epoch 5/50\n",
            "139/139 [==============================] - 30s 209ms/step - loss: 0.3392 - accuracy: 0.8711 - val_loss: 0.4145 - val_accuracy: 0.8810\n",
            "Epoch 6/50\n",
            "139/139 [==============================] - 30s 211ms/step - loss: 0.3062 - accuracy: 0.8765 - val_loss: 0.4934 - val_accuracy: 0.8656\n",
            "Epoch 7/50\n",
            "139/139 [==============================] - 30s 210ms/step - loss: 0.3422 - accuracy: 0.8785 - val_loss: 0.4253 - val_accuracy: 0.8909\n",
            "Epoch 8/50\n",
            "139/139 [==============================] - 30s 210ms/step - loss: 0.2846 - accuracy: 0.8997 - val_loss: 0.4344 - val_accuracy: 0.8999\n",
            "Epoch 9/50\n",
            "139/139 [==============================] - 30s 210ms/step - loss: 0.2380 - accuracy: 0.9116 - val_loss: 0.4274 - val_accuracy: 0.9053\n",
            "Epoch 10/50\n",
            "139/139 [==============================] - 30s 211ms/step - loss: 0.2056 - accuracy: 0.9254 - val_loss: 0.5556 - val_accuracy: 0.8837\n",
            "Epoch 11/50\n",
            "139/139 [==============================] - 30s 209ms/step - loss: 0.2614 - accuracy: 0.9103 - val_loss: 0.6054 - val_accuracy: 0.8891\n",
            "Epoch 12/50\n",
            "139/139 [==============================] - 30s 211ms/step - loss: 0.2416 - accuracy: 0.9168 - val_loss: 0.6212 - val_accuracy: 0.8873\n",
            "Epoch 13/50\n",
            "139/139 [==============================] - 30s 211ms/step - loss: 0.3128 - accuracy: 0.9046 - val_loss: 0.5289 - val_accuracy: 0.8837\n",
            "Epoch 14/50\n",
            "139/139 [==============================] - 34s 241ms/step - loss: 0.2329 - accuracy: 0.9141 - val_loss: 0.6481 - val_accuracy: 0.8954\n",
            "Epoch 15/50\n",
            "139/139 [==============================] - 30s 210ms/step - loss: 0.1782 - accuracy: 0.9418 - val_loss: 0.4401 - val_accuracy: 0.9125\n",
            "Epoch 16/50\n",
            "139/139 [==============================] - 30s 211ms/step - loss: 0.1693 - accuracy: 0.9418 - val_loss: 0.5417 - val_accuracy: 0.9035\n",
            "Epoch 17/50\n",
            "139/139 [==============================] - 30s 212ms/step - loss: 0.1630 - accuracy: 0.9463 - val_loss: 0.4752 - val_accuracy: 0.9098\n",
            "Epoch 18/50\n",
            "139/139 [==============================] - 30s 209ms/step - loss: 0.1434 - accuracy: 0.9475 - val_loss: 0.7169 - val_accuracy: 0.9098\n",
            "Epoch 19/50\n",
            "139/139 [==============================] - 30s 213ms/step - loss: 0.1642 - accuracy: 0.9482 - val_loss: 0.5651 - val_accuracy: 0.8945\n",
            "Epoch 20/50\n",
            "139/139 [==============================] - 30s 210ms/step - loss: 0.1657 - accuracy: 0.9452 - val_loss: 0.8120 - val_accuracy: 0.8963\n",
            "Epoch 21/50\n",
            "139/139 [==============================] - 30s 210ms/step - loss: 0.1887 - accuracy: 0.9382 - val_loss: 0.7020 - val_accuracy: 0.8909\n",
            "Epoch 22/50\n",
            "139/139 [==============================] - 30s 213ms/step - loss: 0.1758 - accuracy: 0.9427 - val_loss: 0.7570 - val_accuracy: 0.8810\n",
            "Epoch 23/50\n",
            "139/139 [==============================] - 30s 210ms/step - loss: 0.1851 - accuracy: 0.9405 - val_loss: 0.8267 - val_accuracy: 0.8720\n",
            "Epoch 24/50\n",
            "139/139 [==============================] - 30s 211ms/step - loss: 0.2250 - accuracy: 0.9168 - val_loss: 0.5418 - val_accuracy: 0.9089\n",
            "Epoch 25/50\n",
            "139/139 [==============================] - 30s 212ms/step - loss: 0.2830 - accuracy: 0.9195 - val_loss: 0.6925 - val_accuracy: 0.8963\n",
            "Epoch 26/50\n",
            "139/139 [==============================] - 30s 211ms/step - loss: 0.2312 - accuracy: 0.9342 - val_loss: 0.7284 - val_accuracy: 0.8945\n",
            "Epoch 27/50\n",
            "139/139 [==============================] - 30s 212ms/step - loss: 0.1394 - accuracy: 0.9497 - val_loss: 1.2818 - val_accuracy: 0.9017\n",
            "Epoch 28/50\n",
            "139/139 [==============================] - 30s 210ms/step - loss: 0.2001 - accuracy: 0.9400 - val_loss: 0.8900 - val_accuracy: 0.9053\n",
            "Epoch 29/50\n",
            "139/139 [==============================] - 30s 213ms/step - loss: 0.1779 - accuracy: 0.9461 - val_loss: 0.7361 - val_accuracy: 0.9008\n",
            "Epoch 30/50\n",
            "139/139 [==============================] - 30s 209ms/step - loss: 0.1583 - accuracy: 0.9504 - val_loss: 0.7463 - val_accuracy: 0.9035\n",
            "Epoch 31/50\n",
            "139/139 [==============================] - 30s 210ms/step - loss: 0.1640 - accuracy: 0.9468 - val_loss: 0.6378 - val_accuracy: 0.9089\n",
            "Epoch 32/50\n",
            "139/139 [==============================] - 30s 212ms/step - loss: 0.1543 - accuracy: 0.9484 - val_loss: 0.7664 - val_accuracy: 0.9098\n",
            "Epoch 33/50\n",
            "139/139 [==============================] - 30s 212ms/step - loss: 0.1440 - accuracy: 0.9587 - val_loss: 0.9191 - val_accuracy: 0.9179\n",
            "Epoch 34/50\n",
            "139/139 [==============================] - 30s 213ms/step - loss: 0.1740 - accuracy: 0.9511 - val_loss: 0.9376 - val_accuracy: 0.8918\n",
            "Epoch 35/50\n",
            "139/139 [==============================] - 30s 209ms/step - loss: 0.2014 - accuracy: 0.9457 - val_loss: 0.8562 - val_accuracy: 0.9071\n",
            "Epoch 36/50\n",
            "139/139 [==============================] - 30s 211ms/step - loss: 0.1810 - accuracy: 0.9443 - val_loss: 1.0603 - val_accuracy: 0.9089\n",
            "Epoch 37/50\n",
            "139/139 [==============================] - 30s 211ms/step - loss: 0.2207 - accuracy: 0.9299 - val_loss: 0.9152 - val_accuracy: 0.9062\n",
            "Epoch 38/50\n",
            "139/139 [==============================] - 30s 211ms/step - loss: 0.1768 - accuracy: 0.9380 - val_loss: 0.5650 - val_accuracy: 0.9017\n",
            "Epoch 39/50\n",
            "139/139 [==============================] - 30s 213ms/step - loss: 0.1776 - accuracy: 0.9405 - val_loss: 0.8677 - val_accuracy: 0.8963\n",
            "Epoch 40/50\n",
            "139/139 [==============================] - 29s 209ms/step - loss: 0.1516 - accuracy: 0.9475 - val_loss: 0.8719 - val_accuracy: 0.9080\n",
            "Epoch 41/50\n",
            "139/139 [==============================] - 30s 212ms/step - loss: 0.1118 - accuracy: 0.9624 - val_loss: 0.6716 - val_accuracy: 0.8990\n",
            "Epoch 42/50\n",
            "139/139 [==============================] - 30s 213ms/step - loss: 0.1405 - accuracy: 0.9540 - val_loss: 0.8853 - val_accuracy: 0.8828\n",
            "Epoch 43/50\n",
            "139/139 [==============================] - 30s 212ms/step - loss: 0.1765 - accuracy: 0.9452 - val_loss: 1.0223 - val_accuracy: 0.8972\n",
            "Epoch 44/50\n",
            "139/139 [==============================] - 30s 210ms/step - loss: 0.1537 - accuracy: 0.9572 - val_loss: 0.6701 - val_accuracy: 0.9080\n",
            "Epoch 45/50\n",
            "139/139 [==============================] - 30s 213ms/step - loss: 0.1290 - accuracy: 0.9592 - val_loss: 0.7828 - val_accuracy: 0.8972\n",
            "Epoch 46/50\n",
            "139/139 [==============================] - 30s 212ms/step - loss: 0.1199 - accuracy: 0.9590 - val_loss: 1.0820 - val_accuracy: 0.8936\n",
            "Epoch 47/50\n",
            "139/139 [==============================] - 30s 212ms/step - loss: 0.1307 - accuracy: 0.9635 - val_loss: 0.8406 - val_accuracy: 0.9089\n",
            "Epoch 48/50\n",
            "139/139 [==============================] - 30s 212ms/step - loss: 0.1125 - accuracy: 0.9617 - val_loss: 1.2868 - val_accuracy: 0.9017\n",
            "Epoch 49/50\n",
            "139/139 [==============================] - 30s 211ms/step - loss: 0.1697 - accuracy: 0.9506 - val_loss: 0.5685 - val_accuracy: 0.9062\n",
            "Epoch 50/50\n",
            "139/139 [==============================] - 30s 214ms/step - loss: 0.1400 - accuracy: 0.9518 - val_loss: 0.9473 - val_accuracy: 0.9107\n"
          ]
        }
      ],
      "source": [
        "history = model.fit(training_set, validation_data=test_set, epochs=epochs, callbacks=[tensorboard_callback, csv_logger])"
      ]
    },
    {
      "cell_type": "code",
      "source": [
        ""
      ],
      "metadata": {
        "id": "2Mgnc4yEjVNP"
      },
      "execution_count": null,
      "outputs": []
    }
  ],
  "metadata": {
    "colab": {
      "collapsed_sections": [],
      "name": "vgg16.ipynb",
      "provenance": [],
      "include_colab_link": true
    },
    "kernelspec": {
      "display_name": "Python 3",
      "name": "python3"
    },
    "language_info": {
      "name": "python"
    },
    "accelerator": "GPU"
  },
  "nbformat": 4,
  "nbformat_minor": 0
}