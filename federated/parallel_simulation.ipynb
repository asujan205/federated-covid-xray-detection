{
  "cells": [
    {
      "cell_type": "markdown",
      "metadata": {
        "id": "view-in-github",
        "colab_type": "text"
      },
      "source": [
        "<a href=\"https://colab.research.google.com/github/rupeshgyawali/federated-covid-xray-detection/blob/main/federated/parallel_simulation.ipynb\" target=\"_parent\"><img src=\"https://colab.research.google.com/assets/colab-badge.svg\" alt=\"Open In Colab\"/></a>"
      ]
    },
    {
      "cell_type": "markdown",
      "metadata": {
        "id": "wlx01fGptD8U"
      },
      "source": [
        "### Download and unzip dataset"
      ]
    },
    {
      "cell_type": "code",
      "execution_count": null,
      "metadata": {
        "id": "5N6elajHtJQo",
        "colab": {
          "base_uri": "https://localhost:8080/"
        },
        "outputId": "79b85fb3-fff3-4693-f5d0-296861b20021"
      },
      "outputs": [
        {
          "output_type": "stream",
          "name": "stdout",
          "text": [
            "/usr/local/lib/python3.7/dist-packages/gdown/cli.py:131: FutureWarning: Option `--id` was deprecated in version 4.3.1 and will be removed in 5.0. You don't need to pass it anymore to use a file ID.\n",
            "  category=FutureWarning,\n",
            "Downloading...\n",
            "From: https://drive.google.com/uc?id=1bum9Sehb3AzUMHLhBMuowPKyr_PCrB3a\n",
            "To: /content/COVID-19_Radiography_Dataset.zip\n",
            "100% 814M/814M [00:03<00:00, 234MB/s]\n"
          ]
        }
      ],
      "source": [
        "# !gdown --id 1ZMgUQkwNqvMrZ8QaQmSbiDqXOWAewwou\n",
        "# !unzip -q COVID-19_Radiography_Database.zip\n",
        "!gdown --id 1bum9Sehb3AzUMHLhBMuowPKyr_PCrB3a\n",
        "!unzip -q COVID-19_Radiography_Dataset.zip"
      ]
    },
    {
      "cell_type": "code",
      "execution_count": null,
      "metadata": {
        "id": "1dwQsT-ztKgW"
      },
      "outputs": [],
      "source": [
        "!rm -r COVID-19_Radiography_Dataset/**/masks/\n",
        "!mv COVID-19_Radiography_Dataset/COVID/images/* COVID-19_Radiography_Dataset/COVID/\n",
        "!mv COVID-19_Radiography_Dataset/Lung_Opacity/images/* COVID-19_Radiography_Dataset/Lung_Opacity/\n",
        "!mv COVID-19_Radiography_Dataset/Normal/images/* COVID-19_Radiography_Dataset/Normal/\n",
        "!mv COVID-19_Radiography_Dataset/Viral\\ Pneumonia/images/* COVID-19_Radiography_Dataset/Viral\\ Pneumonia\n",
        "!rm -r COVID-19_Radiography_Dataset/**/images"
      ]
    },
    {
      "cell_type": "markdown",
      "metadata": {
        "id": "qmFZoBsHtWIB"
      },
      "source": [
        "### Install necessary libraries"
      ]
    },
    {
      "cell_type": "code",
      "execution_count": null,
      "metadata": {
        "colab": {
          "base_uri": "https://localhost:8080/"
        },
        "id": "z-FMB7f1tdBE",
        "outputId": "80e5bf86-7843-4592-af7a-5af1c07f9c16"
      },
      "outputs": [
        {
          "output_type": "stream",
          "name": "stdout",
          "text": [
            "Collecting flwr\n",
            "  Downloading flwr-0.18.0-py3-none-any.whl (106 kB)\n",
            "\u001b[K     |████████████████████████████████| 106 kB 4.3 MB/s \n",
            "\u001b[?25hRequirement already satisfied: numpy<2.0.0,>=1.19.0 in /usr/local/lib/python3.7/dist-packages (from flwr) (1.21.6)\n",
            "Requirement already satisfied: google<3.0.0,>=2.0.3 in /usr/local/lib/python3.7/dist-packages (from flwr) (2.0.3)\n",
            "Collecting grpcio<=1.43.0,>=1.27.2\n",
            "  Downloading grpcio-1.43.0-cp37-cp37m-manylinux_2_17_x86_64.manylinux2014_x86_64.whl (4.1 MB)\n",
            "\u001b[K     |████████████████████████████████| 4.1 MB 28.1 MB/s \n",
            "\u001b[?25hRequirement already satisfied: protobuf<4.0.0,>=3.12.1 in /usr/local/lib/python3.7/dist-packages (from flwr) (3.17.3)\n",
            "Collecting importlib-metadata<2.0.0,>=1.4.0\n",
            "  Downloading importlib_metadata-1.7.0-py2.py3-none-any.whl (31 kB)\n",
            "Requirement already satisfied: beautifulsoup4 in /usr/local/lib/python3.7/dist-packages (from google<3.0.0,>=2.0.3->flwr) (4.6.3)\n",
            "Requirement already satisfied: six>=1.5.2 in /usr/local/lib/python3.7/dist-packages (from grpcio<=1.43.0,>=1.27.2->flwr) (1.15.0)\n",
            "Requirement already satisfied: zipp>=0.5 in /usr/local/lib/python3.7/dist-packages (from importlib-metadata<2.0.0,>=1.4.0->flwr) (3.8.0)\n",
            "Installing collected packages: importlib-metadata, grpcio, flwr\n",
            "  Attempting uninstall: importlib-metadata\n",
            "    Found existing installation: importlib-metadata 4.11.3\n",
            "    Uninstalling importlib-metadata-4.11.3:\n",
            "      Successfully uninstalled importlib-metadata-4.11.3\n",
            "  Attempting uninstall: grpcio\n",
            "    Found existing installation: grpcio 1.44.0\n",
            "    Uninstalling grpcio-1.44.0:\n",
            "      Successfully uninstalled grpcio-1.44.0\n",
            "\u001b[31mERROR: pip's dependency resolver does not currently take into account all the packages that are installed. This behaviour is the source of the following dependency conflicts.\n",
            "tensorflow 2.8.0 requires tf-estimator-nightly==2.8.0.dev2021122109, which is not installed.\n",
            "markdown 3.3.6 requires importlib-metadata>=4.4; python_version < \"3.10\", but you have importlib-metadata 1.7.0 which is incompatible.\u001b[0m\n",
            "Successfully installed flwr-0.18.0 grpcio-1.43.0 importlib-metadata-1.7.0\n"
          ]
        }
      ],
      "source": [
        "!pip install flwr"
      ]
    },
    {
      "cell_type": "markdown",
      "metadata": {
        "id": "wZW-hfN8tkhW"
      },
      "source": [
        "### Import necessary libraries"
      ]
    },
    {
      "cell_type": "code",
      "execution_count": null,
      "metadata": {
        "id": "F0m5Eznbovfl"
      },
      "outputs": [],
      "source": [
        "import os\n",
        "import math\n",
        "import time\n",
        "from multiprocessing import Process\n",
        "\n",
        "import flwr as fl\n",
        "import tensorflow as tf\n",
        "from flwr.server.strategy import FedAvg"
      ]
    },
    {
      "cell_type": "markdown",
      "metadata": {
        "id": "tlQ86RXYu-SG"
      },
      "source": [
        "### Get Compiled Model"
      ]
    },
    {
      "cell_type": "code",
      "execution_count": null,
      "metadata": {
        "id": "aYEOL7XVoApx"
      },
      "outputs": [],
      "source": [
        "def get_compiled_model():\n",
        "    num_classes = 4\n",
        "    # Create model\n",
        "    model = tf.keras.models.Sequential([\n",
        "      tf.keras.layers.Rescaling(1./256, input_shape=(256, 256, 3)),\n",
        "      tf.keras.layers.Conv2D(16, 3, padding='same', activation='relu'),\n",
        "      tf.keras.layers.MaxPool2D(),\n",
        "      tf.keras.layers.Conv2D(32, 3, padding='same', activation='relu'),\n",
        "      tf.keras.layers.MaxPool2D(),\n",
        "      tf.keras.layers.Conv2D(64, 3, padding='same', activation='relu'),\n",
        "      tf.keras.layers.MaxPool2D(),\n",
        "      tf.keras.layers.Flatten(),\n",
        "      tf.keras.layers.Dense(128, activation='relu'),\n",
        "      tf.keras.layers.Dense(num_classes),\n",
        "    ])\n",
        "    model.compile(optimizer='adam',\n",
        "              loss=tf.keras.losses.SparseCategoricalCrossentropy(from_logits=True),\n",
        "              metrics=['accuracy'])\n",
        "    \n",
        "    return model"
      ]
    },
    {
      "cell_type": "markdown",
      "metadata": {
        "id": "OANSmD5VvMz0"
      },
      "source": [
        "### Prepare Dataset"
      ]
    },
    {
      "cell_type": "code",
      "execution_count": null,
      "metadata": {
        "colab": {
          "base_uri": "https://localhost:8080/"
        },
        "id": "QSEIyrIYvQUJ",
        "outputId": "afde6fe2-4378-4634-cf28-78e597b27cbe"
      },
      "outputs": [
        {
          "output_type": "stream",
          "name": "stdout",
          "text": [
            "Found 21165 files belonging to 4 classes.\n",
            "Using 16932 files for training.\n",
            "Found 21165 files belonging to 4 classes.\n",
            "Using 4233 files for validation.\n"
          ]
        }
      ],
      "source": [
        "train_ds = tf.keras.utils.image_dataset_from_directory('/content/COVID-19_Radiography_Dataset', seed=123, validation_split=0.2, subset=\"training\")\n",
        "test_ds = tf.keras.utils.image_dataset_from_directory('/content/COVID-19_Radiography_Dataset', seed=123, validation_split=0.2, subset=\"validation\")"
      ]
    },
    {
      "cell_type": "markdown",
      "metadata": {
        "id": "EUByB9-mwKBW"
      },
      "source": [
        "### Partition Dataset"
      ]
    },
    {
      "cell_type": "code",
      "execution_count": null,
      "metadata": {
        "id": "fO71FO_HwOXJ"
      },
      "outputs": [],
      "source": [
        "def partition_dataset(n_partition, partition_index):\n",
        "  return train_ds.shard(n_partition, partition_index), test_ds.shard(n_partition, partition_index)"
      ]
    },
    {
      "cell_type": "markdown",
      "metadata": {
        "id": "rgGVrJTku2F6"
      },
      "source": [
        "### Federated Client"
      ]
    },
    {
      "cell_type": "code",
      "execution_count": null,
      "metadata": {
        "id": "L2fto6f-o_D_"
      },
      "outputs": [],
      "source": [
        "class FederatedClient(fl.client.NumPyClient):\n",
        "    def __init__(self, model, train_ds, test_ds) -> None:\n",
        "        self.model = model\n",
        "        self.train_ds = train_ds\n",
        "        self.test_ds = test_ds\n",
        "\n",
        "    def get_parameters(self):\n",
        "        return self.model.get_weights()\n",
        "\n",
        "    def fit(self, parameters, config):\n",
        "        self.model.set_weights(parameters)\n",
        "        self.model.fit(self.train_ds, validation_data=self.test_ds, epochs=1)\n",
        "        return self.model.get_weights(), len(self.train_ds), {}\n",
        "\n",
        "    def evaluate(self, parameters, config):\n",
        "        self.model.set_weights(parameters)\n",
        "        loss, acc = self.model.evaluate(self.test_ds, self.test_ds)\n",
        "        return loss, len(self.test_ds), {\"accuracy\": acc}"
      ]
    },
    {
      "cell_type": "markdown",
      "metadata": {
        "id": "2LdXOntCx1T_"
      },
      "source": [
        "#### Start client"
      ]
    },
    {
      "cell_type": "code",
      "execution_count": null,
      "metadata": {
        "id": "efARvggyx-Ye"
      },
      "outputs": [],
      "source": [
        "def start_client(dataset, model):\n",
        "\n",
        "    # dataset\n",
        "    train, test = dataset\n",
        "\n",
        "    # client\n",
        "    client = FederatedClient(model, train, test)\n",
        "\n",
        "    # start client\n",
        "    fl.client.start_numpy_client(\"0.0.0.0:5700\", client=client)"
      ]
    },
    {
      "cell_type": "markdown",
      "metadata": {
        "id": "dAZ7VwlIzkzy"
      },
      "source": [
        "### Start Server"
      ]
    },
    {
      "cell_type": "code",
      "execution_count": null,
      "metadata": {
        "id": "QlwAal2wzslV"
      },
      "outputs": [],
      "source": [
        "def start_server(num_rounds, num_clients, fraction_fit):\n",
        "    strategy = FedAvg(min_available_clients=2, fraction_fit=fraction_fit)\n",
        "    # Exposes the server by default on port 8080\n",
        "    fl.server.start_server(\n",
        "        server_address = '[::]:5700',\n",
        "        strategy=strategy,\n",
        "        config={\"num_rounds\": num_rounds},\n",
        "    )"
      ]
    },
    {
      "cell_type": "markdown",
      "metadata": {
        "id": "6mBObtICxgz5"
      },
      "source": [
        "### Simulation"
      ]
    },
    {
      "cell_type": "code",
      "execution_count": null,
      "metadata": {
        "id": "RqrKbDLNptsP"
      },
      "outputs": [],
      "source": [
        "def run_simulation(num_rounds: int, num_clients: int, fraction_fit: float):\n",
        "    processes = []\n",
        "\n",
        "    # Start the server\n",
        "    server_process = Process(\n",
        "        target=start_server, args=(num_rounds, num_clients, fraction_fit)\n",
        "    )\n",
        "    server_process.start()\n",
        "    processes.append(server_process)\n",
        "\n",
        "    # Optionally block the script here for a second or two so the server has time to start\n",
        "    time.sleep(2)\n",
        "\n",
        "    # Load the dataset partitions\n",
        "    # partitions = dataset.load(num_partitions=num_clients)\n",
        "\n",
        "    # Start all the clients\n",
        "    # for partition in partitions:\n",
        "    #     client_process = Process(target=start_client, args=(partition,))\n",
        "    #     client_process.start()\n",
        "    #     processes.append(client_process)\n",
        "\n",
        "    for i in range(num_clients):\n",
        "      dataset = partition_dataset(num_clients, i)\n",
        "      model = get_compiled_model()\n",
        "      client_process = Process(target=start_client, args=(dataset, model))\n",
        "      client_process.start()\n",
        "      processes.append(client_process)\n",
        "\n",
        "    # Block until all processes are finished\n",
        "    for p in processes:\n",
        "        p.join()"
      ]
    },
    {
      "cell_type": "code",
      "execution_count": null,
      "metadata": {
        "id": "rXI4HM8v0gVs"
      },
      "outputs": [],
      "source": [
        "run_simulation(num_rounds=1, num_clients=4, fraction_fit=0.5)"
      ]
    }
  ],
  "metadata": {
    "colab": {
      "name": "Flower_FL.ipynb",
      "provenance": [],
      "collapsed_sections": [],
      "authorship_tag": "ABX9TyNgV8/YOrTfB/RsLW0IATTs",
      "include_colab_link": true
    },
    "kernelspec": {
      "display_name": "Python 3",
      "name": "python3"
    },
    "language_info": {
      "name": "python"
    }
  },
  "nbformat": 4,
  "nbformat_minor": 0
}