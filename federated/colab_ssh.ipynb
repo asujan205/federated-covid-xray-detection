{
  "nbformat": 4,
  "nbformat_minor": 0,
  "metadata": {
    "colab": {
      "name": "Flower_Colab_SSH.ipynb",
      "provenance": [],
      "authorship_tag": "ABX9TyOOSZ2NbnLw6EenFh5wYOKz",
      "include_colab_link": true
    },
    "kernelspec": {
      "name": "python3",
      "display_name": "Python 3"
    },
    "language_info": {
      "name": "python"
    }
  },
  "cells": [
    {
      "cell_type": "markdown",
      "metadata": {
        "id": "view-in-github",
        "colab_type": "text"
      },
      "source": [
        "<a href=\"https://colab.research.google.com/github/rupeshgyawali/federated-covid-xray-detection/blob/main/federated/colab_ssh.ipynb\" target=\"_parent\"><img src=\"https://colab.research.google.com/assets/colab-badge.svg\" alt=\"Open In Colab\"/></a>"
      ]
    },
    {
      "cell_type": "code",
      "source": [
        "# # Reset data\n",
        "# !rm COVID-19_Radiography_Dataset.zip\n",
        "# !rm -r COVID-19_Radiography_Dataset/\n",
        "# !rm -r Dataset/\n",
        "# !rm -r Dataset_1400.zip"
      ],
      "metadata": {
        "id": "YfbXQgNp_kh4"
      },
      "execution_count": null,
      "outputs": []
    },
    {
      "cell_type": "code",
      "source": [
        "# rm ~/.cache/gdown/cookies.json"
      ],
      "metadata": {
        "id": "c8XNEsyuGnWv"
      },
      "execution_count": null,
      "outputs": []
    },
    {
      "cell_type": "code",
      "source": [
        "from google.colab import drive\n",
        "drive.mount('/content/drive')"
      ],
      "metadata": {
        "colab": {
          "base_uri": "https://localhost:8080/"
        },
        "id": "LhbJjTvG_wo9",
        "outputId": "083cf43d-ff07-499a-fd2a-69a48df72060"
      },
      "execution_count": null,
      "outputs": [
        {
          "output_type": "stream",
          "name": "stdout",
          "text": [
            "Mounted at /content/drive\n"
          ]
        }
      ]
    },
    {
      "cell_type": "code",
      "source": [
        ""
      ],
      "metadata": {
        "id": "-u5QlF9mthIq"
      },
      "execution_count": null,
      "outputs": []
    },
    {
      "cell_type": "markdown",
      "source": [
        "### Download and unzip dataset"
      ],
      "metadata": {
        "id": "zfiXadCxcWH_"
      }
    },
    {
      "cell_type": "code",
      "source": [
        "# !cp /content/drive/MyDrive/MajorProject/COVID-19_Radiography_Dataset.zip /content/\n",
        "# !cp /content/drive/MyDrive/MajorProject/Dataset_1400.zip /content/\n",
        "!cp /content/drive/MyDrive/MajorProject/Dataset_NIID.zip /content/"
      ],
      "metadata": {
        "id": "tpbXU5TF_4sQ"
      },
      "execution_count": null,
      "outputs": []
    },
    {
      "cell_type": "code",
      "source": [
        "# !gdown --id 1ZMgUQkwNqvMrZ8QaQmSbiDqXOWAewwou\n",
        "# !unzip -q COVID-19_Radiography_Database.zip\n",
        "# !gdown 10yfPVbWYhaZck9Z5ujE2IA2RmcEHadTP\n",
        "# !unzip -q COVID-19_Radiography_Dataset.zip\n",
        "# !unzip -q Dataset_1400.zip -d Dataset_1400\n",
        "!unzip -q Dataset_NIID.zip -d Dataset_NIID"
      ],
      "metadata": {
        "id": "eJTwx3kCcdQm"
      },
      "execution_count": null,
      "outputs": []
    },
    {
      "cell_type": "code",
      "source": [
        "# !rm -r COVID-19_Radiography_Dataset/**/masks/\n",
        "# !mv COVID-19_Radiography_Dataset/COVID/images/* COVID-19_Radiography_Dataset/COVID/\n",
        "# !mv COVID-19_Radiography_Dataset/Lung_Opacity/images/* COVID-19_Radiography_Dataset/Lung_Opacity/\n",
        "# !mv COVID-19_Radiography_Dataset/Normal/images/* COVID-19_Radiography_Dataset/Normal/\n",
        "# !mv COVID-19_Radiography_Dataset/Viral\\ Pneumonia/images/* COVID-19_Radiography_Dataset/Viral\\ Pneumonia\n",
        "# !rm -r COVID-19_Radiography_Dataset/**/images"
      ],
      "metadata": {
        "id": "_9aa4utNch9c"
      },
      "execution_count": null,
      "outputs": []
    },
    {
      "cell_type": "code",
      "source": [
        "from pathlib import Path\n",
        "\n",
        "# Balancing the dataset\n",
        "# basepath = Path('COVID-19_Radiography_Dataset/')\n",
        "# for entry in basepath.iterdir():\n",
        "#   if entry.is_dir():\n",
        "#     for i, file_ in enumerate(entry.iterdir()):\n",
        "#       if i < 1400:\n",
        "#         continue\n",
        "#       file_.unlink()"
      ],
      "metadata": {
        "id": "xCUfaY1k97GH"
      },
      "execution_count": null,
      "outputs": []
    },
    {
      "cell_type": "markdown",
      "source": [
        "### Split Dataset"
      ],
      "metadata": {
        "id": "HAscXO2P04cg"
      }
    },
    {
      "cell_type": "code",
      "source": [
        "import os\n",
        "import shutil\n",
        "import numpy as np"
      ],
      "metadata": {
        "id": "AoRlzzKA08Dm"
      },
      "execution_count": null,
      "outputs": []
    },
    {
      "cell_type": "code",
      "source": [
        "# !rm -r /content/Dataset/\n",
        "# n_clients = 3\n",
        "# # basepath = Path('COVID-19_Radiography_Dataset/')\n",
        "# basepath = Path('Dataset_1400/')\n",
        "# client_probability_idx = 0\n",
        "# client_probabilities = ([0.1, 0.5, 0.4], [0.6, 0.2, 0.2], [0.4, 0.2, 0.4], [0.33, 0.34, 0.33])\n",
        "# for entry in basepath.iterdir():\n",
        "#   if entry.is_dir():\n",
        "#     client_probability = client_probabilities[client_probability_idx]\n",
        "#     client_probability_idx += 1\n",
        "#     for i, file_ in enumerate(entry.iterdir()):\n",
        "#       # if i == 100:\n",
        "#       #   break\n",
        "#       client_idx = np.random.choice((1, 2, 3), p=client_probability)\n",
        "#       target = Path('Dataset/client' + str(client_idx) + '/' + entry.stem)\n",
        "#       target.mkdir(parents=True, exist_ok=True)\n",
        "#       shutil.copy(file_, target)"
      ],
      "metadata": {
        "id": "OXg6J7ck1B-J"
      },
      "execution_count": null,
      "outputs": []
    },
    {
      "cell_type": "code",
      "source": [
        "# !ls -1q /content/Dataset_NIID/client1/COVID//*.png | wc -l\n",
        "# !ls -1q /content/Dataset_NIID/client1/Normal/*.png | wc -l\n",
        "# !ls -1q /content/Dataset_NIID/client1/Lung_Opacity/*.png | wc -l\n",
        "# !ls -1q /content/Dataset_NIID/client1/Viral\\ Pneumonia/*.png | wc -l\n",
        "\n",
        "# !ls -1q /content/Dataset_NIID/client2/COVID//*.png | wc -l\n",
        "# !ls -1q /content/Dataset_NIID/client2/Normal/*.png | wc -l\n",
        "# !ls -1q /content/Dataset_NIID/client2/Lung_Opacity/*.png | wc -l\n",
        "# !ls -1q /content/Dataset_NIID/client2/Viral\\ Pneumonia/*.png | wc -l\n",
        "\n",
        "# !ls -1q /content/Dataset_NIID/client3/COVID/*.png | wc -l\n",
        "# !ls -1q /content/Dataset_NIID/client3/Normal/*.png | wc -l\n",
        "# !ls -1q /content/Dataset_NIID/client3/Lung_Opacity/*.png | wc -l\n",
        "# !ls -1q /content/Dataset_NIID/client3/Viral\\ Pneumonia/*.png | wc -l"
      ],
      "metadata": {
        "id": "anhtvRfxOjqr",
        "colab": {
          "base_uri": "https://localhost:8080/"
        },
        "outputId": "b9404487-b500-43a8-afc6-0d78f733a86f"
      },
      "execution_count": null,
      "outputs": [
        {
          "output_type": "stream",
          "name": "stdout",
          "text": [
            "457\n",
            "841\n",
            "120\n",
            "564\n",
            "499\n",
            "291\n",
            "687\n",
            "239\n",
            "444\n",
            "268\n",
            "593\n",
            "542\n"
          ]
        }
      ]
    },
    {
      "cell_type": "markdown",
      "source": [
        "### Install necessary libraries"
      ],
      "metadata": {
        "id": "YzDEJbnUcly1"
      }
    },
    {
      "cell_type": "code",
      "source": [
        "!pip install flwr-nightly"
      ],
      "metadata": {
        "id": "43rASjSXcvJA",
        "colab": {
          "base_uri": "https://localhost:8080/",
          "height": 624
        },
        "outputId": "db626386-0033-479a-e868-e110c7361f07"
      },
      "execution_count": null,
      "outputs": [
        {
          "output_type": "stream",
          "name": "stdout",
          "text": [
            "Collecting flwr-nightly\n",
            "  Downloading flwr_nightly-0.19.0.dev20220509-py3-none-any.whl (106 kB)\n",
            "\u001b[K     |████████████████████████████████| 106 kB 16.4 MB/s \n",
            "\u001b[?25hRequirement already satisfied: grpcio<2.0.0,>=1.41.0 in /usr/local/lib/python3.7/dist-packages (from flwr-nightly) (1.44.0)\n",
            "Collecting numpy<1.21.0,>=1.19.0\n",
            "  Downloading numpy-1.20.3-cp37-cp37m-manylinux_2_12_x86_64.manylinux2010_x86_64.whl (15.3 MB)\n",
            "\u001b[K     |████████████████████████████████| 15.3 MB 58.0 MB/s \n",
            "\u001b[?25hRequirement already satisfied: importlib-metadata<5.0.0,>=4.0.0 in /usr/local/lib/python3.7/dist-packages (from flwr-nightly) (4.11.3)\n",
            "Collecting protobuf<4.0.0,>=3.19.0\n",
            "  Downloading protobuf-3.20.1-cp37-cp37m-manylinux_2_5_x86_64.manylinux1_x86_64.whl (1.0 MB)\n",
            "\u001b[K     |████████████████████████████████| 1.0 MB 61.7 MB/s \n",
            "\u001b[?25hCollecting iterators<0.0.3,>=0.0.2\n",
            "  Downloading iterators-0.0.2-py3-none-any.whl (3.9 kB)\n",
            "Requirement already satisfied: six>=1.5.2 in /usr/local/lib/python3.7/dist-packages (from grpcio<2.0.0,>=1.41.0->flwr-nightly) (1.15.0)\n",
            "Requirement already satisfied: zipp>=0.5 in /usr/local/lib/python3.7/dist-packages (from importlib-metadata<5.0.0,>=4.0.0->flwr-nightly) (3.8.0)\n",
            "Requirement already satisfied: typing-extensions>=3.6.4 in /usr/local/lib/python3.7/dist-packages (from importlib-metadata<5.0.0,>=4.0.0->flwr-nightly) (4.2.0)\n",
            "Installing collected packages: protobuf, numpy, iterators, flwr-nightly\n",
            "  Attempting uninstall: protobuf\n",
            "    Found existing installation: protobuf 3.17.3\n",
            "    Uninstalling protobuf-3.17.3:\n",
            "      Successfully uninstalled protobuf-3.17.3\n",
            "  Attempting uninstall: numpy\n",
            "    Found existing installation: numpy 1.21.6\n",
            "    Uninstalling numpy-1.21.6:\n",
            "      Successfully uninstalled numpy-1.21.6\n",
            "\u001b[31mERROR: pip's dependency resolver does not currently take into account all the packages that are installed. This behaviour is the source of the following dependency conflicts.\n",
            "tensorflow 2.8.0 requires tf-estimator-nightly==2.8.0.dev2021122109, which is not installed.\n",
            "datascience 0.10.6 requires folium==0.2.1, but you have folium 0.8.3 which is incompatible.\n",
            "albumentations 0.1.12 requires imgaug<0.2.7,>=0.2.5, but you have imgaug 0.2.9 which is incompatible.\u001b[0m\n",
            "Successfully installed flwr-nightly-0.19.0.dev20220509 iterators-0.0.2 numpy-1.20.3 protobuf-3.20.1\n"
          ]
        },
        {
          "output_type": "display_data",
          "data": {
            "application/vnd.colab-display-data+json": {
              "pip_warning": {
                "packages": [
                  "google",
                  "numpy"
                ]
              }
            }
          },
          "metadata": {}
        }
      ]
    },
    {
      "cell_type": "markdown",
      "source": [
        "### Colab ssh"
      ],
      "metadata": {
        "id": "sHFij9owcy92"
      }
    },
    {
      "cell_type": "code",
      "source": [
        "# from google.colab import drive\n",
        "# drive.mount('/content/drive')"
      ],
      "metadata": {
        "id": "r5mmE7DiDYn9"
      },
      "execution_count": null,
      "outputs": []
    },
    {
      "cell_type": "code",
      "source": [
        "!pip install python-dotenv --quiet\n",
        "import dotenv\n",
        "import os\n",
        "dotenv.load_dotenv(\n",
        "        os.path.join('/content/drive/MyDrive/MajorProject', '.env')\n",
        "    )\n",
        "password = os.getenv('PASSWORD')\n",
        "github_access_token = os.getenv('GITHUB_ACCESS_TOKEN')"
      ],
      "metadata": {
        "id": "Mxjfso_fDZfk"
      },
      "execution_count": null,
      "outputs": []
    },
    {
      "cell_type": "code",
      "source": [
        "git_repo = 'https://github.com/rupeshgyawali/federated-covid-xray-detection.git'"
      ],
      "metadata": {
        "id": "8KeKYuLLDdV9"
      },
      "execution_count": null,
      "outputs": []
    },
    {
      "cell_type": "code",
      "source": [
        "!pip install colab_ssh --upgrade --quiet\n",
        "from colab_ssh import launch_ssh_cloudflared, init_git_cloudflared"
      ],
      "metadata": {
        "id": "xj9pmfL5GroL"
      },
      "execution_count": null,
      "outputs": []
    },
    {
      "cell_type": "code",
      "source": [
        "launch_ssh_cloudflared(password)\n",
        "init_git_cloudflared(repository_url=git_repo,\n",
        "         personal_token=github_access_token, \n",
        "         branch=\"main\",\n",
        "         email=\"rupeshgyawali49@gmail.com\",\n",
        "         username=\"rupeshgyawali\")"
      ],
      "metadata": {
        "id": "ULLuOklmGtRF",
        "colab": {
          "base_uri": "https://localhost:8080/",
          "height": 367
        },
        "outputId": "f3a1ca80-899b-4051-9107-fd2b79c00f03"
      },
      "execution_count": null,
      "outputs": [
        {
          "output_type": "display_data",
          "data": {
            "text/plain": [
              "<IPython.core.display.HTML object>"
            ],
            "text/html": [
              "<style>\n",
              "*{\n",
              "\toutline:none;\n",
              "}\n",
              "code{\n",
              "\tdisplay:inline-block;\n",
              "\tpadding:5px 10px;\n",
              "\tbackground: #444;\n",
              "\tborder-radius: 4px;\n",
              "\twhite-space: pre-wrap;\n",
              "\tposition:relative;\n",
              "\tcolor:white;\n",
              "}\n",
              ".copy-code-button{\n",
              "\tfloat:right;\n",
              "\tbackground:#333;\n",
              "\tcolor:white;\n",
              "\tborder: none;\n",
              "\tmargin: 0 0 0 10px;\n",
              "\tcursor: pointer;\n",
              "}\n",
              "p, li{\n",
              "\tmax-width:700px;\n",
              "}\n",
              ".choices{\n",
              "\tdisplay:flex;\n",
              "\tflex: 1 0 auto;\n",
              "}\n",
              ".choice-section{\n",
              "\tborder:solid 1px #555;\n",
              "\tborder-radius: 4px;\n",
              "\tmin-width:300px;\n",
              "\tmargin: 10px 15px 0 0;\n",
              "\tpadding: 0 15px 15px 15px ;\n",
              "}\n",
              ".button{\n",
              "\tpadding: 10px 15px;\n",
              "\tbackground:#333;\n",
              "\tborder-radius: 4px;\n",
              "\tborder:solid 1px #555;\n",
              "\tcolor:white;\n",
              "\tfont-weight:bold;\n",
              "\tcursor:pointer;\n",
              "}\n",
              ".pill{\n",
              "\tpadding:2px 4px;\n",
              "\tborder-radius: 100px;\n",
              "\tbackground-color:#e65858;\n",
              "\tfont-size:12px;\n",
              "\tfont-weight:bold;\n",
              "\tmargin: 0 15px;\n",
              "\tcolor:white;\n",
              "}\n",
              "</style>\n",
              "<details class=\"choice-section\">\n",
              "\t<summary style=\"cursor:pointer\">\n",
              "\t\t<h3 style=\"display:inline-block;margin-top:15px\">⚙️ Client machine configuration<span class=\"pill\">Required</span></h3>\n",
              "\t</summary>\n",
              "\t<p>Don't worry, you only have to do this <b>once per client machine</b>.</p>\n",
              "\t<ol>\n",
              "\t\t<li>Download <a href=\"https://developers.cloudflare.com/argo-tunnel/getting-started/installation\">Cloudflared (Argo Tunnel)</a>, then copy the absolute path of the cloudflare binary</li>\n",
              "\t\t<li>Now, you have to append the following to your SSH config file (usually under ~/.ssh/config), and make sure you replace the placeholder with the path you copied in Step 1:</li>\n",
              "\t</ol>\n",
              "\t<code>Host *.trycloudflare.com\n",
              "\tHostName %h\n",
              "\tUser root\n",
              "\tPort 22\n",
              "\tProxyCommand &ltPUT_THE_ABSOLUTE_CLOUDFLARE_PATH_HERE&gt access ssh --hostname %h\n",
              "\t</code>\n",
              "</details>\n",
              "<div class=\"choices\">\n",
              "\t<div class=\"choice-section\">\n",
              "\t\t<h4>SSH Terminal</h4>\n",
              "\t\t<p>To connect using your terminal, type this command:</p>\n",
              "\t\t<code>ssh blogger-karaoke-zimbabwe-bs.trycloudflare.com</code>\n",
              "\t</div>\n",
              "\t<div class=\"choice-section\">\n",
              "\t\t<h4>VSCode Remote SSH</h4>\n",
              "\t\t<p>You can also connect with VSCode Remote SSH (Ctrl+Shift+P and type \"Connect to Host...\"). Then, paste the following hostname in the opened command palette:</p>\n",
              "\t\t<code>blogger-karaoke-zimbabwe-bs.trycloudflare.com</code>\n",
              "\t</div>\n",
              "</div>\n",
              "\n",
              "<script>\n",
              "// Copy any string\n",
              "function fallbackCopyTextToClipboard(text) {\n",
              "  var textArea = document.createElement(\"textarea\");\n",
              "  textArea.value = text;\n",
              "  \n",
              "  // Avoid scrolling to bottom\n",
              "  textArea.style.top = \"0\";\n",
              "  textArea.style.left = \"0\";\n",
              "  textArea.style.position = \"fixed\";\n",
              "\n",
              "  document.body.appendChild(textArea);\n",
              "  textArea.focus();\n",
              "  textArea.select();\n",
              "\n",
              "  try {\n",
              "    var successful = document.execCommand('copy');\n",
              "    var msg = successful ? 'successful' : 'unsuccessful';\n",
              "    console.log('Fallback: Copying text command was ' + msg);\n",
              "  } catch (err) {\n",
              "    console.error('Fallback: Oops, unable to copy', err);\n",
              "  }\n",
              "\n",
              "  document.body.removeChild(textArea);\n",
              "}\n",
              "\n",
              "// Show the copy button with every code tag\n",
              "document.querySelectorAll('code').forEach(function (codeBlock) {\n",
              "\tconst codeToCopy= codeBlock.innerText;\n",
              "\tvar pre = document.createElement('pre');\n",
              "\tpre.innerText = codeToCopy;\n",
              "    var button = document.createElement('button');\n",
              "    button.className = 'copy-code-button';\n",
              "    button.type = 'button';\n",
              "    button.innerText = 'Copy';\n",
              "\tbutton.onclick = function(){\n",
              "\t\tfallbackCopyTextToClipboard(codeToCopy);\n",
              "\t\tbutton.innerText = 'Copied'\n",
              "\t\tsetTimeout(()=>{\n",
              "\t\t\tbutton.innerText = 'Copy'\n",
              "\t\t},2000)\n",
              "\t}\n",
              "\tcodeBlock.children = pre;\n",
              "\tcodeBlock.prepend(button)\n",
              "});\n",
              "</script>\n"
            ]
          },
          "metadata": {}
        },
        {
          "output_type": "stream",
          "name": "stdout",
          "text": [
            "Successfully cloned the repository in ./federated-covid-xray-detection\n"
          ]
        },
        {
          "output_type": "display_data",
          "data": {
            "text/plain": [
              "<IPython.core.display.HTML object>"
            ],
            "text/html": [
              "<div>\n",
              "\t<div class=\"choice-section\">\n",
              "\t\t<h4>Your repository was cloned with success</h4>\n",
              "\t\t<p>You can open your repository on VSCode with one click:</p>\n",
              "\t\t<a href=\"vscode://vscode-remote/ssh-remote+root@blogger-karaoke-zimbabwe-bs.trycloudflare.com:22/content/federated-covid-xray-detection\">\n",
              "\t\t\t<button class=\"button\">Open federated-covid-xray-detection</button>\n",
              "\t\t</a>\n",
              "\t</div>\n",
              "</div>"
            ]
          },
          "metadata": {}
        }
      ]
    },
    {
      "cell_type": "code",
      "source": [
        ""
      ],
      "metadata": {
        "id": "joKJp-O6GtVW"
      },
      "execution_count": null,
      "outputs": []
    }
  ]
}